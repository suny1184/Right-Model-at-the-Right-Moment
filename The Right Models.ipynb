{
 "cells": [
  {
   "cell_type": "markdown",
   "metadata": {},
   "source": [
    "# Categorize the Problem"
   ]
  },
  {
   "cell_type": "markdown",
   "metadata": {},
   "source": [
    "### Input"
   ]
  },
  {
   "cell_type": "markdown",
   "metadata": {},
   "source": [
    " - labelled data => **Supervised Learning**\n",
    " - unlabelled data, so want to find the structure => **Unsupervised Learning**\n",
    " - optimize an objective function by interacting with environment => **Reinforcement Learning**"
   ]
  },
  {
   "cell_type": "markdown",
   "metadata": {},
   "source": [
    "### Ouput"
   ]
  },
  {
   "cell_type": "markdown",
   "metadata": {},
   "source": [
    "- number => **Regression Model**\n",
    "- classes => **Classification Model**\n",
    "- set of input groups => **Cluster Model**"
   ]
  },
  {
   "cell_type": "markdown",
   "metadata": {},
   "source": [
    "### Speed"
   ]
  },
  {
   "cell_type": "markdown",
   "metadata": {},
   "source": [
    "We should not underestimate the importance of speed in real time applications. For example, it's important that classification of road signs be as fast as possible in autonomous driving.\n",
    "\n",
    "- How long does it take to build a model(Does the learning fast?)\n",
    "- How long does the model take to make predictions"
   ]
  },
  {
   "cell_type": "markdown",
   "metadata": {},
   "source": [
    "### Model Complexity"
   ]
  },
  {
   "cell_type": "markdown",
   "metadata": {},
   "source": [
    "Model is **Complex** if\n",
    "\n",
    "- More features to learn/predict\n",
    "- More complex feature engineering(ex) Polynomial terms, interactions, principal components)\n",
    "- more computational overhead(ex) decition tree-> random forests with more trees)\n",
    "\n",
    "Reduce data redundancy/dimensionality\n",
    "\n",
    "- PCA()\n",
    "\n",
    "=> Note that the more complex the algorithm, the more chances of overfitting"
   ]
  },
  {
   "cell_type": "markdown",
   "metadata": {},
   "source": [
    "# MODELS"
   ]
  },
  {
   "cell_type": "markdown",
   "metadata": {},
   "source": [
    "## 1) Linear Regression"
   ]
  },
  {
   "cell_type": "markdown",
   "metadata": {},
   "source": [
    "- compute some continuous values\n",
    "- (cons) unstable in case features are redundant(if there is multicollinearity)"
   ]
  },
  {
   "cell_type": "markdown",
   "metadata": {},
   "source": [
    "## 2) Logistic Regression"
   ]
  },
  {
   "cell_type": "markdown",
   "metadata": {},
   "source": [
    "- binary classification\n",
    "\n",
    "**<**PROS**>**\n",
    "    \n",
    "- lots of ways of regularization( ex) Lasso/ )\n",
    "- do not need to worry as much about correlations among features\n",
    "- easily update the model to take in new data\n",
    "- easy probabilistic interpretation\n",
    "- can find the most effective features to the target"
   ]
  },
  {
   "cell_type": "code",
   "execution_count": null,
   "metadata": {},
   "outputs": [],
   "source": []
  }
 ],
 "metadata": {
  "kernelspec": {
   "display_name": "Python 3",
   "language": "python",
   "name": "python3"
  },
  "language_info": {
   "codemirror_mode": {
    "name": "ipython",
    "version": 3
   },
   "file_extension": ".py",
   "mimetype": "text/x-python",
   "name": "python",
   "nbconvert_exporter": "python",
   "pygments_lexer": "ipython3",
   "version": "3.7.3"
  }
 },
 "nbformat": 4,
 "nbformat_minor": 2
}
